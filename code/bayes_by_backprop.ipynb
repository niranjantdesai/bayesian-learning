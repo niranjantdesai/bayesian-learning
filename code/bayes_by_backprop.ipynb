{
  "nbformat": 4,
  "nbformat_minor": 0,
  "metadata": {
    "colab": {
      "name": "bayes_by_backprop",
      "provenance": [],
      "collapsed_sections": [],
      "authorship_tag": "ABX9TyONEeyG8cPizOvlMLxMiADd",
      "include_colab_link": true
    },
    "kernelspec": {
      "name": "python3",
      "display_name": "Python 3"
    },
    "accelerator": "GPU"
  },
  "cells": [
    {
      "cell_type": "markdown",
      "metadata": {
        "id": "view-in-github",
        "colab_type": "text"
      },
      "source": [
        "<a href=\"https://colab.research.google.com/github/niranjantdesai/bayesian-learning/blob/master/bayes_by_backprop.ipynb\" target=\"_parent\"><img src=\"https://colab.research.google.com/assets/colab-badge.svg\" alt=\"Open In Colab\"/></a>"
      ]
    },
    {
      "cell_type": "markdown",
      "metadata": {
        "id": "CLcivuoM6yFV",
        "colab_type": "text"
      },
      "source": [
        "Source: https://github.com/ThirstyScholar/bayes-by-backprop"
      ]
    },
    {
      "cell_type": "code",
      "metadata": {
        "id": "4xFCTXliSKSX",
        "colab_type": "code",
        "colab": {}
      },
      "source": [
        "import math\n",
        "import matplotlib.pyplot as plt\n",
        "import numpy as np\n",
        "import torch\n",
        "import torch.nn as nn\n",
        "import torch.nn.functional as F\n",
        "from torch.autograd import Variable"
      ],
      "execution_count": 0,
      "outputs": []
    },
    {
      "cell_type": "code",
      "metadata": {
        "id": "Hj-9JTBcSSvA",
        "colab_type": "code",
        "colab": {}
      },
      "source": [
        "class BNNLayer(nn.Module):\n",
        "    NegHalfLog2PI = -.5 * math.log(2.0 * math.pi)\n",
        "    softplus = lambda x: math.log(1 + math.exp(x))\n",
        "\n",
        "    def __init__(self, n_input, n_output, activation, prior_mean, prior_rho):\n",
        "        assert activation in {'relu', 'softmax', 'none'}, 'Activation Type Not Found'\n",
        "\n",
        "        super(BNNLayer, self).__init__()\n",
        "\n",
        "        # Instantiate a large Gaussian block to sample from, much faster than generating random sample every time\n",
        "        self._gaussian_block = np.random.randn(10000)\n",
        "\n",
        "        self.n_input = n_input\n",
        "        self.n_output = n_output\n",
        "\n",
        "        self.W_mean = nn.Parameter(torch.ones((n_input, n_output)) * prior_mean)\n",
        "        self.W_rho = nn.Parameter(torch.ones(n_input, n_output) * prior_rho)\n",
        "\n",
        "        self.b_mean = nn.Parameter(torch.ones(1, n_output) * prior_mean)\n",
        "        self.b_rho = nn.Parameter(torch.ones(1, n_output) * prior_rho)\n",
        "\n",
        "        self.prior_var = Variable(torch.ones(1, 1) * BNNLayer.softplus(prior_rho) ** 2)\n",
        "\n",
        "        # Set activation function\n",
        "        self.act = None\n",
        "        if activation == 'relu':\n",
        "            self.act = F.relu\n",
        "        elif activation == 'softmax':\n",
        "            self.act = F.softmax\n",
        "\n",
        "        self._Var = lambda x: Variable(torch.from_numpy(x).type(torch.FloatTensor))\n",
        "\n",
        "    def forward(self, X, mode):\n",
        "        assert mode in {'forward', 'MAP', 'MC'}, 'BNNLayer Mode Not Found'\n",
        "\n",
        "        _shape = (X.size()[0], self.n_output)\n",
        "\n",
        "        # Z: pre-activation. Local reparam. trick is used.\n",
        "        Z_Mean = torch.mm(X, self.W_mean) + self.b_mean.expand(*_shape)\n",
        "\n",
        "        if mode == 'MAP': return self.act(Z_Mean) if self.act is not None else Z_Mean\n",
        "\n",
        "        Z_Std = torch.sqrt(\n",
        "            torch.mm(torch.pow(X, 2),\n",
        "                     torch.pow(F.softplus(self.W_rho), 2)) +\n",
        "            torch.pow(F.softplus(self.b_rho.expand(*_shape)), 2)\n",
        "        )\n",
        "\n",
        "        Z_noise = self._random(_shape)\n",
        "        Z = Z_Mean + Z_Std * Z_noise\n",
        "\n",
        "        if mode == 'MC': return self.act(Z) if self.act is not None else Z\n",
        "\n",
        "        # Stddev for the prior\n",
        "        Prior_Z_Std = torch.sqrt(\n",
        "            torch.mm(torch.pow(X, 2),\n",
        "                     self.prior_var.expand(self.n_input, self.n_output)) +\n",
        "            self.prior_var.expand(*_shape)\n",
        "        ).detach()\n",
        "\n",
        "        # KL[posterior(w|D)||prior(w)]\n",
        "        layer_KL = self.sample_KL(Z,\n",
        "                                  Z_Mean, Z_Std,\n",
        "                                  Z_Mean.detach(), Prior_Z_Std)\n",
        "\n",
        "        out = self.act(Z) if self.act is not None else Z\n",
        "        return out, layer_KL\n",
        "\n",
        "    def _random(self, shape):\n",
        "        Z_noise = np.random.choice(self._gaussian_block, size=shape[0] * shape[1])\n",
        "        Z_noise = np.expand_dims(Z_noise, axis=1).reshape(*shape)\n",
        "        return self._Var(Z_noise)\n",
        "\n",
        "    @staticmethod\n",
        "    def log_gaussian(x, mean, std):\n",
        "        return BNNLayer.NegHalfLog2PI - torch.log(std) - .5 * torch.pow(x - mean, 2) / torch.pow(std, 2)\n",
        "\n",
        "    @staticmethod\n",
        "    def sample_KL(x, mean1, std1, mean2, std2):\n",
        "        log_prob1 = BNNLayer.log_gaussian(x, mean1, std1)\n",
        "        log_prob2 = BNNLayer.log_gaussian(x, mean2, std2)\n",
        "        return (log_prob1 - log_prob2).sum()"
      ],
      "execution_count": 0,
      "outputs": []
    },
    {
      "cell_type": "code",
      "metadata": {
        "id": "GbUwG1joSmjp",
        "colab_type": "code",
        "colab": {}
      },
      "source": [
        "class BNN(nn.Module):\n",
        "    def __init__(self, *layers):\n",
        "        super(BNN, self).__init__()\n",
        "\n",
        "        self.layers, self.params = [], nn.ParameterList()\n",
        "        for layer in layers:\n",
        "            self.layers.append(layer)\n",
        "            self.params.extend([*layer.parameters()])   # register module parameters\n",
        "\n",
        "    def forward(self, x, mode):\n",
        "        if mode == 'forward':\n",
        "            net_kl = 0\n",
        "            for layer in self.layers:\n",
        "                x, layer_kl = layer.forward(x, mode)\n",
        "                net_kl += layer_kl\n",
        "            return x, net_kl\n",
        "        else:\n",
        "            for layer in self.layers:\n",
        "                x = layer.forward(x, mode)\n",
        "            return x\n",
        "\n",
        "    def Forward(self, x, y, n_samples, type):\n",
        "\n",
        "        assert type in {'Gaussian', 'Softmax'}, 'Likelihood type not found'\n",
        "\n",
        "        # Sample N samples and average\n",
        "        total_kl, total_likelh = 0., 0.\n",
        "        for _ in range(n_samples):\n",
        "            out, kl = self.forward(x, mode='forward')\n",
        "\n",
        "            # Gaussian output (with unit var)\n",
        "            # lklh = torch.log(torch.exp(-(y - out) ** 2 / 2e-2) / math.sqrt(2e-2 * math.pi)).sum()\n",
        "\n",
        "            if type == 'Gaussian':\n",
        "                lklh = (-.5 * (y - out) ** 2).sum()\n",
        "            else:   # softmax\n",
        "                lklh = torch.log(out.gather(1, y)).sum()\n",
        "\n",
        "            total_kl += kl\n",
        "            total_likelh += lklh\n",
        "\n",
        "        return total_kl / n_samples, total_likelh / n_samples\n",
        "\n",
        "    @staticmethod\n",
        "    def loss_fn(kl, lklh, n_batch):\n",
        "        return (kl / n_batch - lklh).mean()"
      ],
      "execution_count": 0,
      "outputs": []
    },
    {
      "cell_type": "code",
      "metadata": {
        "id": "dLfE_Bo3SrMx",
        "colab_type": "code",
        "colab": {}
      },
      "source": [
        "plt.style.use('seaborn-paper')\n",
        "\n",
        "train_size = 20\n",
        "x = np.random.uniform(-4, 4, size=train_size).reshape((-1, 1))\n",
        "noise = np.random.normal(0, 3, size=train_size).reshape((-1, 1))\n",
        "y = x ** 3 + noise\n",
        "\n",
        "Var = lambda x, dtype=torch.FloatTensor: Variable(torch.from_numpy(x).type(dtype))\n",
        "X = Var(x)\n",
        "Y = Var(y)"
      ],
      "execution_count": 0,
      "outputs": []
    },
    {
      "cell_type": "code",
      "metadata": {
        "id": "ZsT7dxl1TB42",
        "colab_type": "code",
        "colab": {}
      },
      "source": [
        "# Initialize network\n",
        "bnn = BNN(BNNLayer(1, 256, activation='relu', prior_mean=0, prior_rho=0),\n",
        "          BNNLayer(256, 256, activation='relu', prior_mean=0, prior_rho=0),\n",
        "          BNNLayer(256, 1, activation='none', prior_mean=0, prior_rho=0))\n",
        "# bnn = BNN(BNNLayer(1, 100, activation='relu', prior_mean=0, prior_rho=0),\n",
        "#               BNNLayer(100, 1, activation='none', prior_mean=0, prior_rho=0))\n",
        "\n",
        "optim = torch.optim.Adam(bnn.parameters(), lr=1e-1)"
      ],
      "execution_count": 0,
      "outputs": []
    },
    {
      "cell_type": "code",
      "metadata": {
        "id": "nGCh44doTF3X",
        "colab_type": "code",
        "outputId": "7e7dc736-f3b2-481c-8a30-4ec666d5d397",
        "colab": {
          "base_uri": "https://localhost:8080/",
          "height": 318
        }
      },
      "source": [
        "# Main training loop\n",
        "losses = []\n",
        "num_epochs = 400\n",
        "for i_ep in range(num_epochs):\n",
        "    kl, lg_lklh = bnn.Forward(X, Y, 1, 'Gaussian')\n",
        "    loss = BNN.loss_fn(kl, lg_lklh, 1)\n",
        "    losses.append(loss.item())\n",
        "    optim.zero_grad()\n",
        "    loss.backward()\n",
        "    optim.step()\n",
        "  \n",
        "plt.plot(losses)\n",
        "plt.xlabel('Epochs')\n",
        "plt.ylabel('Loss')"
      ],
      "execution_count": 32,
      "outputs": [
        {
          "output_type": "execute_result",
          "data": {
            "text/plain": [
              "Text(0, 0.5, 'Loss')"
            ]
          },
          "metadata": {
            "tags": []
          },
          "execution_count": 32
        },
        {
          "output_type": "display_data",
          "data": {
            "image/png": "[encoded data removed]",
            "text/plain": [
              "<Figure size 460.8x316.8 with 1 Axes>"
            ]
          },
          "metadata": {
            "tags": [],
            "needs_background": "light"
          }
        }
      ]
    },
    {
      "cell_type": "code",
      "metadata": {
        "id": "uo4aaxrFTInF",
        "colab_type": "code",
        "colab": {}
      },
      "source": [
        "# Test data is between -10 and 10.\n",
        "x_ = np.linspace(0, 1, 100)\n",
        "x_ = x_ * 20 - 10\n",
        "\n",
        "# x_ = np.linspace(-5, 5)\n",
        "y_ = x_ ** 3\n",
        "X_ = Var(x_).unsqueeze(1)\n",
        "\n",
        "pred_lst = [bnn.forward(X_, mode='MC').data.numpy().squeeze(1) for _ in range(100)]\n",
        "\n",
        "pred = np.array(pred_lst).T\n",
        "pred_mean = pred.mean(axis=1)\n",
        "pred_std = pred.std(axis=1)"
      ],
      "execution_count": 0,
      "outputs": []
    },
    {
      "cell_type": "code",
      "metadata": {
        "id": "o4St9xVKpLic",
        "colab_type": "code",
        "colab": {
          "base_uri": "https://localhost:8080/",
          "height": 326
        },
        "outputId": "523955e9-15b3-42b3-910d-f99abaeedc76"
      },
      "source": [
        "plt.plot(x, y, 'or', label='Training data')\n",
        "plt.plot(x_, pred_mean, c='grey', label='Predicted mean')\n",
        "plt.fill_between(x_, pred_mean - 3 * pred_std, pred_mean + 3 * pred_std,\n",
        "                  color='lightblue', alpha=.5, label='+/- 3 std')\n",
        "\n",
        "plt.plot(x_, y_, c='green', label='Ground truth')\n",
        "\n",
        "plt.legend()\n",
        "plt.tight_layout()\n",
        "plt.show()"
      ],
      "execution_count": 39,
      "outputs": [
        {
          "output_type": "display_data",
          "data": {
            "image/png": "[encoded data removed]",
            "text/plain": [
              "<Figure size 460.8x316.8 with 1 Axes>"
            ]
          },
          "metadata": {
            "tags": [],
            "needs_background": "light"
          }
        }
      ]
    }
  ]
}