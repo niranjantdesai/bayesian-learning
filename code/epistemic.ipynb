{
 "cells": [
  {
   "cell_type": "code",
   "execution_count": 1,
   "metadata": {},
   "outputs": [],
   "source": [
    "import GPy\n",
    "# import time\n",
    "import copy\n",
    "import math\n",
    "import matplotlib.pyplot as plt\n",
    "import numpy as np\n",
    "import torch\n",
    "\n",
    "\n",
    "from pbp_code.PBP_net.PBP_net import PBPNet\n",
    "\n",
    "from sgld_code.wrapper import Langevin_Wrapper"
   ]
  },
  {
   "cell_type": "code",
   "execution_count": 2,
   "metadata": {},
   "outputs": [],
   "source": [
    "%load_ext autoreload\n",
    "\n",
    "%autoreload 2"
   ]
  },
  {
   "cell_type": "code",
   "execution_count": 3,
   "metadata": {},
   "outputs": [],
   "source": [
    "np.random.seed(2)"
   ]
  },
  {
   "cell_type": "code",
   "execution_count": 4,
   "metadata": {},
   "outputs": [],
   "source": [
    "torch_device = torch.device(\"cuda\" if torch.cuda.is_available() else \"cpu\")"
   ]
  },
  {
   "cell_type": "code",
   "execution_count": 5,
   "metadata": {},
   "outputs": [],
   "source": [
    "# colors for plotting\n",
    "c = ['#1f77b4', '#ff7f0e', '#2ca02c', '#d62728', '#9467bd',\n",
    "     '#8c564b', '#e377c2', '#7f7f7f', '#bcbd22', '#17becf']"
   ]
  },
  {
   "cell_type": "markdown",
   "metadata": {},
   "source": [
    "## Dataset generation"
   ]
  },
  {
   "cell_type": "code",
   "execution_count": 6,
   "metadata": {},
   "outputs": [],
   "source": [
    "x_plot = np.linspace(-5, 5, 200) # dataset to plot the uncertainities"
   ]
  },
  {
   "cell_type": "code",
   "execution_count": 7,
   "metadata": {},
   "outputs": [],
   "source": [
    "def generate_rbf_dataset():\n",
    "    '''\n",
    "    Dataset using the RBF kernel\n",
    "    '''\n",
    "    no_points = 400\n",
    "    lengthscale = 1\n",
    "    variance = 1.0\n",
    "    sig_noise = 0.3\n",
    "    x = np.random.uniform(-3, 3, no_points)[:, None]\n",
    "\n",
    "\n",
    "    k = GPy.kern.RBF(input_dim = 1, variance = variance, lengthscale = lengthscale)\n",
    "    C = k.K(x, x) + np.eye(no_points)*sig_noise**2\n",
    "\n",
    "    y = np.random.multivariate_normal(np.zeros((no_points)), C)[:, None]\n",
    "    y = (y - y.mean())\n",
    "    \n",
    "    x_train = x[:250]\n",
    "    y_train = y[:250]\n",
    "    \n",
    "    x_test = x[250:]\n",
    "    y_test = y[250:]\n",
    "    \n",
    "    return x_train, y_train, x_test, y_test"
   ]
  },
  {
   "cell_type": "code",
   "execution_count": 8,
   "metadata": {},
   "outputs": [],
   "source": [
    "def generate_cubic_dataset():\n",
    "    '''\n",
    "    Generate the dataset for y=x^3 with noise in y_train and y_train\n",
    "    \n",
    "    '''\n",
    "    \n",
    "    no_points = 40\n",
    "    x = np.random.uniform(-4, 4, no_points)\n",
    "    \n",
    "    # adding noise with variance 9\n",
    "    y = (x**3 + np.random.randn(x.shape[0])*3)/100\n",
    "    y_plot = (x_plot**3)/100\n",
    "    \n",
    "\n",
    "    x_train = x[:30, None]\n",
    "    y_train = y[:30]\n",
    "    \n",
    "    x_test = x[30:, None]\n",
    "    y_test = y[30:]\n",
    "    \n",
    "    return x_train, y_train, x_test, y_test, y_plot"
   ]
  },
  {
   "cell_type": "markdown",
   "metadata": {},
   "source": [
    "## SGLD"
   ]
  },
  {
   "cell_type": "code",
   "execution_count": 9,
   "metadata": {},
   "outputs": [],
   "source": [
    "def estimate_uncertainity_sgld(num_hidden_layers, \n",
    "                               num_hidden_units, \n",
    "                               x_train, \n",
    "                               y_train, \n",
    "                               x_test, \n",
    "                               x_plot):\n",
    "    '''\n",
    "    Uncertainity estimation using SGLD\n",
    "    '''\n",
    "    \n",
    "    # Training portion\n",
    "    \n",
    "    best_net, best_loss = None, float('inf')\n",
    "    num_nets, nets, losses = 50, [], []\n",
    "    mix_epochs, burnin_epochs = 100, 3000\n",
    "#     mix_epochs, burnin_epochs = 100, 100000\n",
    "    num_epochs = mix_epochs*num_nets + burnin_epochs\n",
    "\n",
    "    num_epochs, batch_size, nb_train = 8000, len(x_train), len(x_train)\n",
    "#     num_epochs, batch_size, nb_train = 500000, len(x_train), len(x_train)\n",
    "\n",
    "    net = Langevin_Wrapper(input_dim=1, \n",
    "                           output_dim=1, \n",
    "                           no_units=num_hidden_units, \n",
    "                           learn_rate=1e-4,\n",
    "                           batch_size=batch_size, \n",
    "                           no_batches=1, \n",
    "                           init_log_noise=0, \n",
    "                           weight_decay=1,\n",
    "                           num_hidden_layers = num_hidden_layers\n",
    "                          )\n",
    "\n",
    "    for i in range(num_epochs):\n",
    "\n",
    "        loss = net.fit(x_train, y_train)\n",
    "\n",
    "        if i % 200 == 0:\n",
    "            print('Epoch: %4d, Train loss = %8.3f' % (i, loss.cpu().data.numpy()))\n",
    "\n",
    "        if i % mix_epochs == 0 and i > burnin_epochs: nets.append(copy.deepcopy(net.network))\n",
    "            \n",
    "    \n",
    "    # inference and uncertainity estimation\n",
    "    print(\"Using %d networks for prediction\" % len(nets))\n",
    "    \n",
    "     # for x_plot\n",
    "    samples = []\n",
    "    noises = []\n",
    "    for network in nets:\n",
    "        preds = network.forward(torch.FloatTensor(x_plot).to(torch_device)).cpu().data.numpy()\n",
    "        samples.append(preds)\n",
    "        noises.append(torch.exp(network.log_noise).cpu().data.numpy())\n",
    "\n",
    "    samples = np.array(samples)\n",
    "    noises = np.array(noises).reshape(-1)\n",
    "    predict_plot = (samples.mean(axis = 0)).reshape(-1)\n",
    "\n",
    "#     aleatoric_test = noises.mean()\n",
    "    epistemic_plot = (samples.var(axis = 0)**0.5).reshape(-1)\n",
    "#     total_unc_test = (aleatoric**2 + epistemic**2)**0.5\n",
    "    \n",
    "    # for x_test\n",
    "    samples = []\n",
    "    noises = []\n",
    "    for network in nets:\n",
    "        preds = network.forward(torch.FloatTensor(x_test).to(torch_device)).cpu().data.numpy()\n",
    "        samples.append(preds)\n",
    "        noises.append(torch.exp(network.log_noise).cpu().data.numpy())\n",
    "\n",
    "    samples = np.array(samples)\n",
    "    noises = np.array(noises).reshape(-1)\n",
    "    predict_test = (samples.mean(axis = 0)).reshape(-1)\n",
    "\n",
    "#     aleatoric_test = noises.mean()\n",
    "    epistemic_test = (samples.var(axis = 0)**0.5).reshape(-1)\n",
    "#     total_unc_test = (aleatoric**2 + epistemic**2)**0.5\n",
    "\n",
    "    net = None\n",
    "\n",
    "    return predict_test, predict_plot, epistemic_test, epistemic_plot"
   ]
  },
  {
   "cell_type": "markdown",
   "metadata": {},
   "source": [
    "## PBP code"
   ]
  },
  {
   "cell_type": "code",
   "execution_count": 10,
   "metadata": {},
   "outputs": [],
   "source": [
    "def estimate_uncertainity_pbp(num_hidden_layers, \n",
    "                               num_hidden_units, \n",
    "                               x_train, \n",
    "                               y_train, \n",
    "                               x_test, \n",
    "                               x_plot):\n",
    "    '''\n",
    "    Uncertainity estimation using probabilistic backprop\n",
    "    '''\n",
    "\n",
    "    net = PBPNet(x_train, np.squeeze(y_train),\n",
    "                 [num_hidden_units]*num_hidden_layers, normalize=True, n_epochs=40)\n",
    "    \n",
    "        \n",
    "    predictions_test, v_test, v_noise_test = net.predict(x_test.reshape(-1, 1))\n",
    "    \n",
    "    predictions_plot, v_plot, v_noise_plot = net.predict(x_plot.reshape(-1, 1))\n",
    "    \n",
    "    return predictions_test, predictions_plot, np.sqrt(v_test), np.sqrt(v_plot)\n",
    "    \n",
    "        \n",
    "    \n",
    "    "
   ]
  },
  {
   "cell_type": "markdown",
   "metadata": {},
   "source": [
    "## Run experiments"
   ]
  },
  {
   "cell_type": "code",
   "execution_count": 11,
   "metadata": {},
   "outputs": [],
   "source": [
    "def run_experiment(num_hidden_layers, num_hidden_units, x_train, y_train, x_test, x_plot, y_plot):\n",
    "    '''\n",
    "    Run the experiments on SGLD and PBP algorithms\n",
    "    \n",
    "    Plots the predictions with the associated uncertainities\n",
    "    '''\n",
    "    \n",
    "    # run the experiments\n",
    "    _, predict_plot_sgld, _, std_plot_sgld = estimate_uncertainity_sgld(\n",
    "        num_hidden_layers,\n",
    "        num_hidden_units,\n",
    "        x_train,\n",
    "        y_train,\n",
    "        x_test, \n",
    "        x_plot\n",
    "    )\n",
    "    \n",
    "    _, predict_plot_pbp, _, std_plot_pbp = estimate_uncertainity_pbp(\n",
    "        num_hidden_layers,\n",
    "        num_hidden_units,\n",
    "        x_train,\n",
    "        y_train,\n",
    "        x_test, \n",
    "        x_plot\n",
    "    )\n",
    "    \n",
    "    \n",
    "    \n",
    "    plt.figure()\n",
    "    plt.scatter(x_train, y_train, s = 10, marker = 'x', color = 'black', alpha = 0.5, label='training data')\n",
    "    plt.fill_between(\n",
    "        x_plot, \n",
    "        predict_plot_pbp - 3*std_plot_pbp, \n",
    "        predict_plot_pbp + 3*std_plot_pbp, \n",
    "        color = c[0], \n",
    "        alpha = 0.3, \n",
    "        label='PBP uncertainity'\n",
    "    )\n",
    "    plt.plot(x_plot, predict_plot_pbp, color = c[0], alpha=0.8, label='PBP prediction')\n",
    "    \n",
    "    plt.fill_between(\n",
    "        x_plot, \n",
    "        predict_plot_sgld - 3*std_plot_sgld, \n",
    "        predict_plot_sgld + 3*std_plot_sgld, \n",
    "        color = c[1], \n",
    "        alpha = 0.3, \n",
    "        label='SGLD uncertainity'\n",
    "    )\n",
    "    plt.plot(x_plot, predict_plot_sgld, color = c[1], alpha=0.8, label='SGLD prediction')\n",
    "    \n",
    "    plt.plot(x_plot, y_plot, color = c[2], alpha=0.8, label='Ground Truth')\n",
    "    \n",
    "    plt.xlabel('x')\n",
    "    plt.title('Prediction and uncertainity')\n",
    "    plt.gca().yaxis.grid(alpha=0.3)\n",
    "    plt.gca().xaxis.grid(alpha=0.3)\n",
    "    \n",
    "    plt.legend()\n",
    "    \n",
    "    plt.show()"
   ]
  },
  {
   "cell_type": "markdown",
   "metadata": {},
   "source": [
    "### Cubic dataset with a single hidden layer"
   ]
  },
  {
   "cell_type": "code",
   "execution_count": 12,
   "metadata": {},
   "outputs": [],
   "source": [
    "# generate cubic dataset\n",
    "\n",
    "x_train, y_train, x_test, y_test, y_plot = generate_cubic_dataset()"
   ]
  },
  {
   "cell_type": "code",
   "execution_count": 13,
   "metadata": {
    "scrolled": false
   },
   "outputs": [
    {
     "name": "stdout",
     "output_type": "stream",
     "text": [
      "Epoch:    0, Train loss =   17.604\n",
      "Epoch:  200, Train loss = -992.698\n",
      "Epoch:  400, Train loss = -1062.951\n",
      "Epoch:  600, Train loss = -902.924\n",
      "Epoch:  800, Train loss = -250.978\n",
      "Epoch: 1000, Train loss = -852.237\n",
      "Epoch: 1200, Train loss = -1041.756\n",
      "Epoch: 1400, Train loss = -1031.850\n",
      "Epoch: 1600, Train loss = -1049.824\n",
      "Epoch: 1800, Train loss = -1046.783\n",
      "Epoch: 2000, Train loss =  421.257\n",
      "Epoch: 2200, Train loss = -1093.247\n",
      "Epoch: 2400, Train loss = -1095.500\n",
      "Epoch: 2600, Train loss = -626.543\n",
      "Epoch: 2800, Train loss = -1079.995\n",
      "Epoch: 3000, Train loss = -1031.719\n",
      "Epoch: 3200, Train loss = -1042.705\n",
      "Epoch: 3400, Train loss =  420.310\n",
      "Epoch: 3600, Train loss = -1078.190\n",
      "Epoch: 3800, Train loss = -898.476\n",
      "Epoch: 4000, Train loss = -956.861\n",
      "Epoch: 4200, Train loss = -1085.453\n",
      "Epoch: 4400, Train loss = -1054.739\n",
      "Epoch: 4600, Train loss = -1087.340\n",
      "Epoch: 4800, Train loss = -1061.718\n",
      "Epoch: 5000, Train loss = -1041.516\n",
      "Epoch: 5200, Train loss = -1061.387\n",
      "Epoch: 5400, Train loss = -1033.178\n",
      "Epoch: 5600, Train loss = -1010.259\n",
      "Epoch: 5800, Train loss = -1045.286\n",
      "Epoch: 6000, Train loss = -1020.372\n",
      "Epoch: 6200, Train loss = -1002.760\n",
      "Epoch: 6400, Train loss = -1094.330\n",
      "Epoch: 6600, Train loss = -1039.884\n",
      "Epoch: 6800, Train loss = -1086.146\n",
      "Epoch: 7000, Train loss = -863.543\n",
      "Epoch: 7200, Train loss = -1067.079\n",
      "Epoch: 7400, Train loss = -684.388\n",
      "Epoch: 7600, Train loss =  -75.799\n",
      "Epoch: 7800, Train loss = -948.348\n",
      "Using 49 networks for prediction\n",
      "0\n",
      "1\n",
      "2\n",
      "3\n",
      "4\n",
      "5\n",
      "6\n",
      "7\n",
      "8\n",
      "9\n",
      "10\n",
      "11\n",
      "12\n",
      "13\n",
      "14\n",
      "15\n",
      "16\n",
      "17\n",
      "18\n",
      "19\n",
      "20\n",
      "21\n",
      "22\n",
      "23\n",
      "24\n",
      "25\n",
      "26\n",
      "27\n",
      "28\n",
      "29\n",
      "30\n",
      "31\n",
      "32\n",
      "33\n",
      "34\n",
      "35\n",
      "36\n",
      "37\n",
      "38\n",
      "39\n"
     ]
    },
    {
     "data": {
      "image/png": "[encoded data removed]",
      "text/plain": [
       "<Figure size 432x288 with 1 Axes>"
      ]
     },
     "metadata": {
      "needs_background": "light"
     },
     "output_type": "display_data"
    }
   ],
   "source": [
    "run_experiment(1, 50, x_train, y_train, x_test, x_plot, y_plot)"
   ]
  },
  {
   "cell_type": "markdown",
   "metadata": {},
   "source": [
    "### RBF data with 2 layers"
   ]
  },
  {
   "cell_type": "code",
   "execution_count": 14,
   "metadata": {},
   "outputs": [],
   "source": [
    "# generate cubic dataset\n",
    "\n",
    "x_train, y_train, x_test, y_test = generate_rbf_dataset()\n",
    "y_plot = np.zeros(x_plot.shape[0])"
   ]
  },
  {
   "cell_type": "code",
   "execution_count": 16,
   "metadata": {},
   "outputs": [
    {
     "name": "stdout",
     "output_type": "stream",
     "text": [
      "Epoch:    0, Train loss =  104.713\n",
      "Epoch:  200, Train loss =  -90.413\n",
      "Epoch:  400, Train loss =  -26.615\n",
      "Epoch:  600, Train loss =  327.747\n",
      "Epoch:  800, Train loss =  105.203\n",
      "Epoch: 1000, Train loss =  537.933\n",
      "Epoch: 1200, Train loss =  -36.052\n",
      "Epoch: 1400, Train loss =  125.270\n",
      "Epoch: 1600, Train loss =   64.463\n",
      "Epoch: 1800, Train loss =   -9.794\n",
      "Epoch: 2000, Train loss =  140.379\n",
      "Epoch: 2200, Train loss =  369.335\n",
      "Epoch: 2400, Train loss =    4.711\n",
      "Epoch: 2600, Train loss = 4869.514\n",
      "Epoch: 2800, Train loss = 3619.531\n",
      "Epoch: 3000, Train loss = 2370.216\n",
      "Epoch: 3200, Train loss = 1533.150\n",
      "Epoch: 3400, Train loss =  793.151\n",
      "Epoch: 3600, Train loss =  646.356\n",
      "Epoch: 3800, Train loss =  590.467\n",
      "Epoch: 4000, Train loss =  732.839\n",
      "Epoch: 4200, Train loss =  846.806\n",
      "Epoch: 4400, Train loss = 1378.919\n",
      "Epoch: 4600, Train loss =  545.850\n",
      "Epoch: 4800, Train loss =  335.995\n",
      "Epoch: 5000, Train loss =  476.998\n",
      "Epoch: 5200, Train loss =   63.764\n",
      "Epoch: 5400, Train loss =      nan\n",
      "Epoch: 5600, Train loss =      nan\n",
      "Epoch: 5800, Train loss =      nan\n",
      "Epoch: 6000, Train loss =      nan\n",
      "Epoch: 6200, Train loss =      nan\n",
      "Epoch: 6400, Train loss =      nan\n",
      "Epoch: 6600, Train loss =      nan\n",
      "Epoch: 6800, Train loss =      nan\n",
      "Epoch: 7000, Train loss =      nan\n",
      "Epoch: 7200, Train loss =      nan\n",
      "Epoch: 7400, Train loss =      nan\n",
      "Epoch: 7600, Train loss =      nan\n",
      "Epoch: 7800, Train loss =      nan\n",
      "Using 49 networks for prediction\n",
      "0\n",
      "1\n",
      "2\n",
      "3\n",
      "4\n"
     ]
    },
    {
     "ename": "KeyboardInterrupt",
     "evalue": "",
     "output_type": "error",
     "traceback": [
      "\u001b[0;31m---------------------------------------------------------------------------\u001b[0m",
      "\u001b[0;31mKeyboardInterrupt\u001b[0m                         Traceback (most recent call last)",
      "\u001b[0;32m<ipython-input-16-ad31070c4a5a>\u001b[0m in \u001b[0;36m<module>\u001b[0;34m\u001b[0m\n\u001b[0;32m----> 1\u001b[0;31m \u001b[0mrun_experiment\u001b[0m\u001b[0;34m(\u001b[0m\u001b[0;36m3\u001b[0m\u001b[0;34m,\u001b[0m \u001b[0;36m200\u001b[0m\u001b[0;34m,\u001b[0m \u001b[0mx_train\u001b[0m\u001b[0;34m,\u001b[0m \u001b[0my_train\u001b[0m\u001b[0;34m,\u001b[0m \u001b[0mx_test\u001b[0m\u001b[0;34m,\u001b[0m \u001b[0mx_plot\u001b[0m\u001b[0;34m,\u001b[0m \u001b[0my_plot\u001b[0m\u001b[0;34m)\u001b[0m\u001b[0;34m\u001b[0m\u001b[0;34m\u001b[0m\u001b[0m\n\u001b[0m",
      "\u001b[0;32m<ipython-input-11-6d7eb7237b5d>\u001b[0m in \u001b[0;36mrun_experiment\u001b[0;34m(num_hidden_layers, num_hidden_units, x_train, y_train, x_test, x_plot, y_plot)\u001b[0m\n\u001b[1;32m     16\u001b[0m     )\n\u001b[1;32m     17\u001b[0m \u001b[0;34m\u001b[0m\u001b[0m\n\u001b[0;32m---> 18\u001b[0;31m     _, predict_plot_pbp, _, std_plot_pbp = estimate_uncertainity_pbp(\n\u001b[0m\u001b[1;32m     19\u001b[0m         \u001b[0mnum_hidden_layers\u001b[0m\u001b[0;34m,\u001b[0m\u001b[0;34m\u001b[0m\u001b[0;34m\u001b[0m\u001b[0m\n\u001b[1;32m     20\u001b[0m         \u001b[0mnum_hidden_units\u001b[0m\u001b[0;34m,\u001b[0m\u001b[0;34m\u001b[0m\u001b[0;34m\u001b[0m\u001b[0m\n",
      "\u001b[0;32m<ipython-input-10-7442b886ac9a>\u001b[0m in \u001b[0;36mestimate_uncertainity_pbp\u001b[0;34m(num_hidden_layers, num_hidden_units, x_train, y_train, x_test, x_plot)\u001b[0m\n\u001b[1;32m      9\u001b[0m     '''\n\u001b[1;32m     10\u001b[0m \u001b[0;34m\u001b[0m\u001b[0m\n\u001b[0;32m---> 11\u001b[0;31m     net = PBPNet(x_train, np.squeeze(y_train),\n\u001b[0m\u001b[1;32m     12\u001b[0m                  [num_hidden_units]*num_hidden_layers, normalize=True, n_epochs=40)\n\u001b[1;32m     13\u001b[0m \u001b[0;34m\u001b[0m\u001b[0m\n",
      "\u001b[0;32m~/dev/bayesian-learning/code/pbp_code/PBP_net/PBP_net.py\u001b[0m in \u001b[0;36m__init__\u001b[0;34m(self, X_train, y_train, n_hidden, n_epochs, normalize)\u001b[0m\n\u001b[1;32m     57\u001b[0m         \u001b[0;31m# We iterate the learning process\u001b[0m\u001b[0;34m\u001b[0m\u001b[0;34m\u001b[0m\u001b[0;34m\u001b[0m\u001b[0m\n\u001b[1;32m     58\u001b[0m \u001b[0;34m\u001b[0m\u001b[0m\n\u001b[0;32m---> 59\u001b[0;31m         \u001b[0mpbp\u001b[0m\u001b[0;34m.\u001b[0m\u001b[0mtrain_PBP_network\u001b[0m\u001b[0;34m(\u001b[0m\u001b[0mself\u001b[0m\u001b[0;34m.\u001b[0m\u001b[0mnet\u001b[0m\u001b[0;34m,\u001b[0m \u001b[0mX_train\u001b[0m\u001b[0;34m,\u001b[0m \u001b[0my_train_normalized\u001b[0m\u001b[0;34m,\u001b[0m \u001b[0mn_epochs\u001b[0m\u001b[0;34m)\u001b[0m\u001b[0;34m\u001b[0m\u001b[0;34m\u001b[0m\u001b[0m\n\u001b[0m\u001b[1;32m     60\u001b[0m \u001b[0;34m\u001b[0m\u001b[0m\n\u001b[1;32m     61\u001b[0m         \u001b[0;31m# We are done!\u001b[0m\u001b[0;34m\u001b[0m\u001b[0;34m\u001b[0m\u001b[0;34m\u001b[0m\u001b[0m\n",
      "\u001b[0;32mpbp.pyx\u001b[0m in \u001b[0;36mpbp.train_PBP_network\u001b[0;34m()\u001b[0m\n",
      "\u001b[0;31mKeyboardInterrupt\u001b[0m: "
     ]
    }
   ],
   "source": [
    "run_experiment(3, 200, x_train, y_train, x_test, x_plot, y_plot)"
   ]
  }
 ],
 "metadata": {
  "kernelspec": {
   "display_name": "Python 3",
   "language": "python",
   "name": "python3"
  },
  "language_info": {
   "codemirror_mode": {
    "name": "ipython",
    "version": 3
   },
   "file_extension": ".py",
   "mimetype": "text/x-python",
   "name": "python",
   "nbconvert_exporter": "python",
   "pygments_lexer": "ipython3",
   "version": "3.8.2"
  }
 },
 "nbformat": 4,
 "nbformat_minor": 4
}
