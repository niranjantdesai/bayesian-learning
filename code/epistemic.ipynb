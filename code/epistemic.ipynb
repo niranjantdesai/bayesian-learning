{
 "cells": [
  {
   "cell_type": "code",
   "execution_count": 1,
   "metadata": {},
   "outputs": [],
   "source": [
    "import GPy\n",
    "# import time\n",
    "import copy\n",
    "import math\n",
    "import matplotlib.pyplot as plt\n",
    "import numpy as np\n",
    "import torch\n",
    "\n",
    "from sklearn.preprocessing import StandardScaler\n",
    "\n",
    "\n",
    "from pbp_code.PBP_net.PBP_net import PBPNet\n",
    "\n",
    "from sgld_code_new.wrapper import Langevin_Wrapper"
   ]
  },
  {
   "cell_type": "code",
   "execution_count": 2,
   "metadata": {},
   "outputs": [],
   "source": [
    "%load_ext autoreload\n",
    "\n",
    "%autoreload 2"
   ]
  },
  {
   "cell_type": "code",
   "execution_count": 3,
   "metadata": {},
   "outputs": [],
   "source": [
    "np.random.seed(2)"
   ]
  },
  {
   "cell_type": "code",
   "execution_count": 4,
   "metadata": {},
   "outputs": [],
   "source": [
    "torch_device = torch.device(\"cuda\" if torch.cuda.is_available() else \"cpu\")"
   ]
  },
  {
   "cell_type": "code",
   "execution_count": 5,
   "metadata": {},
   "outputs": [],
   "source": [
    "# colors for plotting\n",
    "c = ['#1f77b4', '#ff7f0e', '#2ca02c', '#d62728', '#9467bd',\n",
    "     '#8c564b', '#e377c2', '#7f7f7f', '#bcbd22', '#17becf']"
   ]
  },
  {
   "cell_type": "markdown",
   "metadata": {},
   "source": [
    "## Dataset generation"
   ]
  },
  {
   "cell_type": "code",
   "execution_count": 6,
   "metadata": {},
   "outputs": [],
   "source": [
    "x_plot = np.linspace(-5, 5, 200) # dataset to plot the uncertainities"
   ]
  },
  {
   "cell_type": "code",
   "execution_count": 7,
   "metadata": {},
   "outputs": [],
   "source": [
    "def generate_rbf_dataset():\n",
    "    '''\n",
    "    Dataset using the RBF kernel\n",
    "    '''\n",
    "    no_points = 400\n",
    "    lengthscale = 1\n",
    "    variance = 1.0\n",
    "    sig_noise = 0.3\n",
    "    x = np.random.uniform(-3, 3, no_points)[:, None]\n",
    "\n",
    "\n",
    "    k = GPy.kern.RBF(input_dim = 1, variance = variance, lengthscale = lengthscale)\n",
    "    C = k.K(x, x) + np.eye(no_points)*sig_noise**2\n",
    "\n",
    "    y = np.random.multivariate_normal(np.zeros((no_points)), C)[:, None]\n",
    "    y = (y - y.mean())\n",
    "    \n",
    "    x_train = x[:250]\n",
    "    y_train = y[:250]\n",
    "    \n",
    "    x_test = x[250:]\n",
    "    y_test = y[250:]\n",
    "    \n",
    "    return x_train, y_train, x_test, y_test"
   ]
  },
  {
   "cell_type": "code",
   "execution_count": 73,
   "metadata": {},
   "outputs": [],
   "source": [
    "def generate_cubic_dataset():\n",
    "    '''\n",
    "    Generate the dataset for y=x^3 with noise in y_train and y_train\n",
    "    \n",
    "    '''\n",
    "    \n",
    "    no_points = 30\n",
    "#     x = np.random.uniform(-3.8, 3.8, no_points)[:, None]\n",
    "    x = np.random.normal(0, 1.6, no_points)[:, None]\n",
    "    \n",
    "    # adding noise with variance 9\n",
    "    y = (x**3 + np.random.randn(x.shape[0], x.shape[1])*3)\n",
    "    y_plot = x_plot**3\n",
    "    \n",
    "\n",
    "    x_train = x[:20]\n",
    "    y_train = y[:20]\n",
    "    \n",
    "    x_test = x[20:]\n",
    "    y_test = y[20:]\n",
    "    \n",
    "    return x_train, y_train, x_test, y_test, y_plot"
   ]
  },
  {
   "cell_type": "markdown",
   "metadata": {},
   "source": [
    "## SGLD"
   ]
  },
  {
   "cell_type": "code",
   "execution_count": 57,
   "metadata": {},
   "outputs": [],
   "source": [
    "def estimate_uncertainity_sgld(num_hidden_layers, \n",
    "                               num_hidden_units, \n",
    "                               x_train, \n",
    "                               y_train, \n",
    "                               x_test, \n",
    "                               x_plot):\n",
    "    '''\n",
    "    Uncertainity estimation using SGLD\n",
    "    '''\n",
    "    \n",
    "    # Training portion\n",
    "    \n",
    "    best_net, best_loss = None, float('inf')\n",
    "    num_nets = 1500\n",
    "    nets = []\n",
    "    nets_lr = []\n",
    "    mix_epochs, burnin_epochs = 50, int(20e3+1)\n",
    "    num_epochs = mix_epochs*(num_nets-1) + burnin_epochs+1\n",
    "\n",
    "    batch_size, nb_train = len(x_train), len(x_train)\n",
    "#     num_epochs, batch_size, nb_train = 500000, len(x_train), len(x_train)\n",
    "\n",
    "    net = Langevin_Wrapper(input_dim=1, \n",
    "                           output_dim=1, \n",
    "                           no_units=num_hidden_units, \n",
    "                           learn_rate=5e-5,\n",
    "                           num_epochs=num_epochs,\n",
    "                           no_batches=1, \n",
    "                           num_hidden_layers = num_hidden_layers,\n",
    "                           num_burn_in_steps=burnin_epochs\n",
    "                          )\n",
    "\n",
    "    x_in = torch.FloatTensor(x_train).to(torch_device)\n",
    "    y_in = torch.FloatTensor(y_train.reshape(-1, 1)).to(torch_device)\n",
    "    for i in range(num_epochs):\n",
    "\n",
    "        loss = net.fit(x_in, y_in)\n",
    "\n",
    "        if (i<= burnin_epochs and i % 2000 == 0) or (i%2500==0):\n",
    "            print('Epoch: %4d, Train loss = %8.3f' % (i, loss.cpu().data.numpy()))\n",
    "\n",
    "        if i % mix_epochs == 0 and i >= burnin_epochs: \n",
    "            copy_network = copy.deepcopy(net.network)\n",
    "            copy_network.load_state_dict(copy.deepcopy(net.network.state_dict()))\n",
    "            copy_network.eval()\n",
    "            nets.append(copy_network)\n",
    "            nets_lr.append(net.get_lr())\n",
    "            \n",
    "    \n",
    "    # inference and uncertainity estimation\n",
    "    print(\"Using %d networks for prediction\" % len(nets))\n",
    "\n",
    "    weights = np.ones(len(nets_lr))\n",
    "    \n",
    "    \n",
    "     # for x_plot\n",
    "    samples = []\n",
    "    for idx, network in enumerate(nets):\n",
    "        preds = network(torch.FloatTensor(x_plot).to(torch_device)).cpu().data.numpy()\n",
    "        samples.append(preds*weights[idx])\n",
    "\n",
    "    samples = np.array(samples)\n",
    "    \n",
    "    predict_plot = (samples.mean(axis = 0)).reshape(-1)\n",
    "\n",
    "#     aleatoric_test = noises.mean()\n",
    "    epistemic_plot = (samples.var(axis = 0)**0.5).reshape(-1)\n",
    "#     total_unc_test = (aleatoric**2 + epistemic**2)**0.5\n",
    "    \n",
    "    # for x_test\n",
    "    samples = []\n",
    "    for idx, network in enumerate(nets):\n",
    "        preds = network(torch.FloatTensor(x_test).to(torch_device)).cpu().data.numpy()\n",
    "        samples.append(preds*weights[idx])\n",
    "\n",
    "    samples = np.array(samples)\n",
    "\n",
    "    predict_test = (samples.mean(axis = 0)).reshape(-1)\n",
    "\n",
    "#     aleatoric_test = noises.mean()\n",
    "    epistemic_test = (samples.var(axis = 0)**0.5).reshape(-1)\n",
    "#     total_unc_test = (aleatoric**2 + epistemic**2)**0.5\n",
    "\n",
    "    net = None\n",
    "\n",
    "    return predict_test, predict_plot, epistemic_test, epistemic_plot"
   ]
  },
  {
   "cell_type": "markdown",
   "metadata": {},
   "source": [
    "## PBP code"
   ]
  },
  {
   "cell_type": "code",
   "execution_count": 10,
   "metadata": {},
   "outputs": [],
   "source": [
    "def estimate_uncertainity_pbp(num_hidden_layers, \n",
    "                               num_hidden_units, \n",
    "                               x_train, \n",
    "                               y_train, \n",
    "                               x_test, \n",
    "                               x_plot):\n",
    "    '''\n",
    "    Uncertainity estimation using probabilistic backprop\n",
    "    '''\n",
    "\n",
    "    net = PBPNet(x_train, np.squeeze(y_train),\n",
    "                 [num_hidden_units]*num_hidden_layers, normalize=True, n_epochs=40)\n",
    "    \n",
    "        \n",
    "    predictions_test, v_test, v_noise_test = net.predict(x_test.reshape(-1, 1))\n",
    "    \n",
    "    predictions_plot, v_plot, v_noise_plot = net.predict(x_plot.reshape(-1, 1))\n",
    "    \n",
    "    return predictions_test, predictions_plot, np.sqrt(v_test), np.sqrt(v_plot)\n",
    "    \n",
    "        \n",
    "    \n",
    "    "
   ]
  },
  {
   "cell_type": "markdown",
   "metadata": {},
   "source": [
    "## Run experiments"
   ]
  },
  {
   "cell_type": "code",
   "execution_count": 24,
   "metadata": {},
   "outputs": [],
   "source": [
    "def run_experiment(num_hidden_layers, num_hidden_units, x_train, y_train, x_test, x_plot, y_plot):\n",
    "    '''\n",
    "    Run the experiments on SGLD and PBP algorithms\n",
    "    \n",
    "    Plots the predictions with the associated uncertainities\n",
    "    '''\n",
    "    \n",
    "    # run the experiments\n",
    "    _, predict_plot_sgld, _, std_plot_sgld = estimate_uncertainity_sgld(\n",
    "        num_hidden_layers,\n",
    "        num_hidden_units,\n",
    "        x_train,\n",
    "        y_train,\n",
    "        x_test, \n",
    "        x_plot\n",
    "    )\n",
    "    \n",
    "    _, predict_plot_pbp, _, std_plot_pbp = estimate_uncertainity_pbp(\n",
    "        num_hidden_layers,\n",
    "        num_hidden_units,\n",
    "        x_train,\n",
    "        y_train,\n",
    "        x_test, \n",
    "        x_plot\n",
    "    )\n",
    "    \n",
    "    \n",
    "    \n",
    "    plt.figure(figsize=(10, 10))\n",
    "    plt.scatter(x_train, y_train, s = 10, marker = 'x', color = 'black', alpha = 0.5, label='training data')\n",
    "    plt.fill_between(\n",
    "        x_plot, \n",
    "        predict_plot_pbp - 3*std_plot_pbp, \n",
    "        predict_plot_pbp + 3*std_plot_pbp, \n",
    "        color = c[0], \n",
    "        alpha = 0.3, \n",
    "        label='PBP uncertainity'\n",
    "    )\n",
    "    plt.plot(x_plot, predict_plot_pbp, color = c[0], alpha=0.8, label='PBP prediction')\n",
    "    \n",
    "    plt.fill_between(\n",
    "        x_plot, \n",
    "        predict_plot_sgld - 3*std_plot_sgld, \n",
    "        predict_plot_sgld + 3*std_plot_sgld, \n",
    "        color = c[1], \n",
    "        alpha = 0.3, \n",
    "        label='SGLD uncertainity'\n",
    "    )\n",
    "    plt.plot(x_plot, predict_plot_sgld, color = c[1], alpha=0.8, label='SGLD prediction')\n",
    "    \n",
    "    plt.plot(x_plot, y_plot, color = c[2], alpha=0.8, label='Ground Truth')\n",
    "    \n",
    "    plt.xlabel('x')\n",
    "    plt.ylim([-70, 70])\n",
    "    plt.title('Prediction and uncertainity')\n",
    "    plt.gca().yaxis.grid(alpha=0.3)\n",
    "    plt.gca().xaxis.grid(alpha=0.3)\n",
    "    \n",
    "    plt.legend()\n",
    "    \n",
    "    plt.show()"
   ]
  },
  {
   "cell_type": "markdown",
   "metadata": {},
   "source": [
    "### Cubic dataset with a single hidden layer"
   ]
  },
  {
   "cell_type": "code",
   "execution_count": 74,
   "metadata": {},
   "outputs": [],
   "source": [
    "# generate cubic dataset\n",
    "\n",
    "x_train, y_train, x_test, y_test, y_plot = generate_cubic_dataset()"
   ]
  },
  {
   "cell_type": "code",
   "execution_count": 75,
   "metadata": {},
   "outputs": [],
   "source": [
    "np.save('../data/pbp_sgld/d0_x_train.npy', x_train)\n",
    "np.save('../data/pbp_sgld/d0_y_train.npy', y_train)\n",
    "np.save('../data/pbp_sgld/d0_x_test.npy', x_test)\n",
    "np.save('../data/pbp_sgld/d0_y_test.npy', y_test)\n",
    "np.save('../data/pbp_sgld/d0_y_plot.npy', y_plot)"
   ]
  },
  {
   "cell_type": "code",
   "execution_count": 76,
   "metadata": {
    "scrolled": false
   },
   "outputs": [
    {
     "name": "stdout",
     "output_type": "stream",
     "text": [
      "Epoch:    0, Train loss =  127.042\n",
      "Epoch: 2000, Train loss =   85.026\n",
      "Epoch: 2500, Train loss =   72.768\n",
      "Epoch: 4000, Train loss =   39.801\n",
      "Epoch: 5000, Train loss =   28.131\n",
      "Epoch: 6000, Train loss =   22.872\n",
      "Epoch: 7500, Train loss =   15.950\n",
      "Epoch: 8000, Train loss =   13.779\n",
      "Epoch: 10000, Train loss =    7.915\n",
      "Epoch: 12000, Train loss =    5.495\n",
      "Epoch: 12500, Train loss =    4.952\n",
      "Epoch: 14000, Train loss =    3.566\n",
      "Epoch: 15000, Train loss =    2.931\n",
      "Epoch: 16000, Train loss =    2.472\n",
      "Epoch: 17500, Train loss =    1.927\n",
      "Epoch: 18000, Train loss =    1.762\n",
      "Epoch: 20000, Train loss =    1.355\n",
      "Epoch: 22500, Train loss =    4.342\n",
      "Epoch: 25000, Train loss =    7.089\n",
      "Epoch: 27500, Train loss =    9.559\n",
      "Epoch: 30000, Train loss =    7.194\n",
      "Epoch: 32500, Train loss =    6.885\n",
      "Epoch: 35000, Train loss =    7.400\n",
      "Epoch: 37500, Train loss =    9.843\n",
      "Epoch: 40000, Train loss =   11.054\n",
      "Epoch: 42500, Train loss =   13.892\n",
      "Epoch: 45000, Train loss =   12.542\n",
      "Epoch: 47500, Train loss =   13.598\n",
      "Epoch: 50000, Train loss =   14.303\n",
      "Epoch: 52500, Train loss =   12.840\n",
      "Epoch: 55000, Train loss =   13.119\n",
      "Epoch: 57500, Train loss =   14.451\n",
      "Epoch: 60000, Train loss =   15.671\n",
      "Epoch: 62500, Train loss =   14.704\n",
      "Epoch: 65000, Train loss =   14.799\n",
      "Epoch: 67500, Train loss =   18.210\n",
      "Epoch: 70000, Train loss =   16.129\n",
      "Epoch: 72500, Train loss =   15.601\n",
      "Epoch: 75000, Train loss =   14.989\n",
      "Epoch: 77500, Train loss =   19.667\n",
      "Epoch: 80000, Train loss =   16.479\n",
      "Epoch: 82500, Train loss =   17.831\n",
      "Epoch: 85000, Train loss =   18.805\n",
      "Epoch: 87500, Train loss =   19.620\n",
      "Epoch: 90000, Train loss =   19.332\n",
      "Epoch: 92500, Train loss =   19.132\n",
      "Using 1499 networks for prediction\n",
      "0\n",
      "1\n",
      "2\n",
      "3\n",
      "4\n",
      "5\n",
      "6\n",
      "7\n",
      "8\n",
      "9\n",
      "10\n",
      "11\n",
      "12\n",
      "13\n",
      "14\n",
      "15\n",
      "16\n",
      "17\n",
      "18\n",
      "19\n",
      "20\n",
      "21\n",
      "22\n",
      "23\n",
      "24\n",
      "25\n",
      "26\n",
      "27\n",
      "28\n",
      "29\n",
      "30\n",
      "31\n",
      "32\n",
      "33\n",
      "34\n",
      "35\n",
      "36\n",
      "37\n",
      "38\n",
      "39\n"
     ]
    },
    {
     "data": {
      "image/png": "[encoded data removed]",
      "text/plain": [
       "<Figure size 720x720 with 1 Axes>"
      ]
     },
     "metadata": {
      "needs_background": "light"
     },
     "output_type": "display_data"
    }
   ],
   "source": [
    "run_experiment(2, 50, x_train, y_train, x_test, x_plot, y_plot)"
   ]
  }
 ],
 "metadata": {
  "kernelspec": {
   "display_name": "Python 3",
   "language": "python",
   "name": "python3"
  },
  "language_info": {
   "codemirror_mode": {
    "name": "ipython",
    "version": 3
   },
   "file_extension": ".py",
   "mimetype": "text/x-python",
   "name": "python",
   "nbconvert_exporter": "python",
   "pygments_lexer": "ipython3",
   "version": "3.8.2"
  }
 },
 "nbformat": 4,
 "nbformat_minor": 4
}
