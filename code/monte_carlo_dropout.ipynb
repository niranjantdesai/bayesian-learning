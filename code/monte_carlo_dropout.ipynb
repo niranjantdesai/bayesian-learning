{
  "nbformat": 4,
  "nbformat_minor": 0,
  "metadata": {
    "colab": {
      "name": "monte_carlo_dropout",
      "provenance": [],
      "collapsed_sections": [],
      "include_colab_link": true
    },
    "kernelspec": {
      "name": "python3",
      "display_name": "Python 3"
    },
    "accelerator": "GPU"
  },
  "cells": [
    {
      "cell_type": "markdown",
      "metadata": {
        "id": "view-in-github",
        "colab_type": "text"
      },
      "source": [
        "<a href=\"https://colab.research.google.com/github/niranjantdesai/bayesian-learning/blob/master/monte_carlo_dropout.ipynb\" target=\"_parent\"><img src=\"https://colab.research.google.com/assets/colab-badge.svg\" alt=\"Open In Colab\"/></a>"
      ]
    },
    {
      "cell_type": "markdown",
      "metadata": {
        "id": "ThR8eX8quRsG",
        "colab_type": "text"
      },
      "source": [
        "# Monte Carlo dropout\n",
        "Source: Yarin Gal's [demo](https://colab.research.google.com/drive/1zcOYplMmun83cL59G1VA4G8HuJAU_neF) from MLSS Moscow 2019."
      ]
    },
    {
      "cell_type": "code",
      "metadata": {
        "id": "dIa3KRJ_8GG4",
        "colab_type": "code",
        "colab": {}
      },
      "source": [
        "import tensorflow as tf\n",
        "from tensorflow.keras.layers import Input, Dense, Dropout\n",
        "\n",
        "inputs = Input(shape=(1,))\n",
        "x = Dense(512, activation=\"relu\")(inputs)\n",
        "# Dropout will be performed during inference too because the \"training\" flag is\n",
        "# set to true.\n",
        "x = Dropout(0.5)(x, training=True)\n",
        "x = Dense(512, activation=\"relu\")(x)\n",
        "x = Dropout(0.5)(x, training=True)\n",
        "outputs = Dense(1)(x)\n",
        "\n",
        "model = tf.keras.Model(inputs, outputs)\n",
        "model.compile(loss=\"mean_squared_error\", optimizer=\"adam\")"
      ],
      "execution_count": 0,
      "outputs": []
    },
    {
      "cell_type": "code",
      "metadata": {
        "id": "2pQZQ3QD85KK",
        "colab_type": "code",
        "outputId": "3b3e108e-daf9-4e78-ef11-428fa05866df",
        "colab": {
          "base_uri": "https://localhost:8080/",
          "height": 34
        }
      },
      "source": [
        "import numpy as np\n",
        "\n",
        "# Train data is between -3.8 and 3.8.\n",
        "max_abs_val = 3.8\n",
        "train_size = 20\n",
        "# x_train = np.linspace(0, 1, train_size)\n",
        "# x_train = max_abs_val * (x_train * 2 - 1)\n",
        "x_train = np.random.uniform(-4, 4, size=train_size)\n",
        "noise = np.random.normal(0, 3, size=train_size)\n",
        "y_train = x_train ** 3 + noise\n",
        "\n",
        "model.fit(x_train, y_train, epochs=2000, verbose=0)"
      ],
      "execution_count": 2,
      "outputs": [
        {
          "output_type": "execute_result",
          "data": {
            "text/plain": [
              "<tensorflow.python.keras.callbacks.History at 0x7f8710202f28>"
            ]
          },
          "metadata": {
            "tags": []
          },
          "execution_count": 2
        }
      ]
    },
    {
      "cell_type": "code",
      "metadata": {
        "id": "BZ1TfAMU9a_2",
        "colab_type": "code",
        "colab": {}
      },
      "source": [
        "import matplotlib.pyplot as plt\n",
        "\n",
        "# Test data is between -10 and 10.\n",
        "x_test = np.linspace(0, 1, 100)\n",
        "x_test = x_test * 20 - 10\n",
        "\n",
        "# do stochastic forward passes on x_test:\n",
        "samples = [model.predict(x_test) for _ in range(500)]\n",
        "m = np.mean(samples, axis=0).flatten() # predictive mean\n",
        "v = np.var(samples, axis=0).flatten() # predictive variance"
      ],
      "execution_count": 0,
      "outputs": []
    },
    {
      "cell_type": "code",
      "metadata": {
        "id": "yZWm45IRnbU-",
        "colab_type": "code",
        "colab": {
          "base_uri": "https://localhost:8080/",
          "height": 297
        },
        "outputId": "11817521-ddf3-40f9-d96c-b18e6a9adfba"
      },
      "source": [
        "# plot mean and uncertainty\n",
        "plt.plot(x_train, y_train, 'or', label='Training data')\n",
        "plt.plot(x_test, m, 'gray', label='Predicted mean')\n",
        "plt.plot(x_test, x_test ** 3, 'green', label='Ground truth')\n",
        "plt.fill_between(x_test, m - 3*v**0.5, m + 3*v**0.5, \n",
        "                 color='lightblue', alpha=0.5, label='+/- 3 std') # plot three std\n",
        "plt.legend()\n",
        "plt.tight_layout()\n",
        "plt.show()"
      ],
      "execution_count": 4,
      "outputs": [
        {
          "output_type": "display_data",
          "data": {
            "image/png": "[encoded data removed]",
            "text/plain": [
              "<Figure size 432x288 with 1 Axes>"
            ]
          },
          "metadata": {
            "tags": [],
            "needs_background": "light"
          }
        }
      ]
    },
    {
      "cell_type": "markdown",
      "metadata": {
        "id": "VyZoxk_gJAAx",
        "colab_type": "text"
      },
      "source": [
        "We observe that the model predicts high uncertainties for points far away from the training data. The further the point from the training data, the higher the uncertainty.\n",
        "\n",
        "This technique is called [Monte Carlo dropout](https://arxiv.org/pdf/1506.02142.pdf) and it can be used to estimate epistemic uncertainty (also known as model uncertainty) of predictions."
      ]
    }
  ]
}